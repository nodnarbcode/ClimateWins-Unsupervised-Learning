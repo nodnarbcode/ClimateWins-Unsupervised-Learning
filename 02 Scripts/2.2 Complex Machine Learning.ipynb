{
 "cells": [
  {
   "cell_type": "markdown",
   "id": "15cf81a3-05a5-4853-8c06-2a54597a7411",
   "metadata": {},
   "source": [
    "### 1. Importing libraries and data"
   ]
  },
  {
   "cell_type": "code",
   "execution_count": null,
   "id": "0e55172d-36c3-4033-bebe-bca537be2532",
   "metadata": {},
   "outputs": [],
   "source": [
    "import pandas as pd\n",
    "import numpy as np\n",
    "import seaborn as sns\n",
    "import os\n",
    "import operator\n",
    "import matplotlib.pyplot as plt\n",
    "import tensorflow as tf\n",
    "from tensorflow import keras\n",
    "from numpy import unique\n",
    "from numpy import reshape\n",
    "from keras.layers import LSTM\n",
    "from keras.models import Sequential\n",
    "from keras.layers import Conv1D, Conv2D, Dense, BatchNormalization, Flatten, MaxPooling1D, Dropout\n",
    "from keras.utils import to_categorical\n",
    "from sklearn.model_selection import train_test_split\n",
    "from sklearn.preprocessing import LabelEncoder\n",
    "\n",
    "import warnings\n",
    "warnings.filterwarnings(\"ignore\")"
   ]
  },
  {
   "cell_type": "code",
   "execution_count": null,
   "id": "bd17cf9e-694a-4f95-be55-a8a2b7556c96",
   "metadata": {},
   "outputs": [],
   "source": [
    "path = r'C:\\Users\\nodnarb\\Documents\\Machine Learning'"
   ]
  },
  {
   "cell_type": "code",
   "execution_count": null,
   "id": "c07eeff4-8a8d-4324-9686-28efd00edd4e",
   "metadata": {},
   "outputs": [],
   "source": [
    "df = pd.read_csv(os.path.join(path, '01 Data Sets', 'weather.csv'), index_col = False)"
   ]
  },
  {
   "cell_type": "code",
   "execution_count": null,
   "id": "e509d680-b699-4c5a-b495-83e4d1a3d849",
   "metadata": {},
   "outputs": [],
   "source": [
    "pleasant = pd.read_csv(os.path.join(path, '01 Data Sets', 'pleasant_weather.csv'), index_col = False)"
   ]
  },
  {
   "cell_type": "code",
   "execution_count": null,
   "id": "815e110a-419e-4069-a015-a64a3a44404a",
   "metadata": {},
   "outputs": [],
   "source": [
    "pd.set_option('display.max_columns', None)\n",
    "df.head()"
   ]
  },
  {
   "cell_type": "code",
   "execution_count": null,
   "id": "78937bf5-33c9-4430-b4d7-05fcaa675bda",
   "metadata": {},
   "outputs": [],
   "source": [
    "pleasant.head()"
   ]
  },
  {
   "cell_type": "code",
   "execution_count": null,
   "id": "408effa0-3e7a-43a9-8b51-0e39e4a1490f",
   "metadata": {},
   "outputs": [],
   "source": [
    "df.shape"
   ]
  },
  {
   "cell_type": "code",
   "execution_count": null,
   "id": "92a390d5-bf7c-4542-87ea-9ed6b300de10",
   "metadata": {},
   "outputs": [],
   "source": [
    "pleasant.shape"
   ]
  },
  {
   "cell_type": "markdown",
   "id": "095e5930-6dd0-45ac-813c-ae6ba7bfbe92",
   "metadata": {},
   "source": [
    "### 2. Data wrangling"
   ]
  },
  {
   "cell_type": "code",
   "execution_count": null,
   "id": "db520fe6-be78-4a82-93a4-bbeafeb4a0eb",
   "metadata": {},
   "outputs": [],
   "source": [
    "df.shape"
   ]
  },
  {
   "cell_type": "code",
   "execution_count": null,
   "id": "208d5412-3e55-4062-b89f-d136dbdd54f4",
   "metadata": {},
   "outputs": [],
   "source": [
    "# Dropping DATE from pleasant\n",
    "\n",
    "pleasant.drop(columns = 'DATE', inplace = True)"
   ]
  },
  {
   "cell_type": "code",
   "execution_count": null,
   "id": "bc2202a4-a097-407f-a5f2-48c47df7f692",
   "metadata": {},
   "outputs": [],
   "source": [
    "pleasant.shape"
   ]
  },
  {
   "cell_type": "code",
   "execution_count": null,
   "id": "948cfb69-95a2-4d55-9f03-673f57560351",
   "metadata": {},
   "outputs": [],
   "source": [
    "# Dropping 3 weather stations not included in pleasant data\n",
    "\n",
    "df = df.drop(['GDANSK_cloud_cover', 'GDANSK_humidity', 'GDANSK_precipitation', 'GDANSK_snow_depth', 'GDANSK_temp_mean', 'GDANSK_temp_min', 'GDANSK_temp_max',\n",
    "                        'ROMA_cloud_cover', 'ROMA_wind_speed', 'ROMA_humidity', 'ROMA_pressure', 'ROMA_sunshine', 'ROMA_temp_mean',\n",
    "                        'TOURS_wind_speed', 'TOURS_humidity', 'TOURS_pressure', 'TOURS_global_radiation', 'TOURS_precipitation', 'TOURS_temp_mean', 'TOURS_temp_min', 'TOURS_temp_max'], axis=1)"
   ]
  },
  {
   "cell_type": "code",
   "execution_count": null,
   "id": "920900ce-5a9d-40ac-b22a-6d3738746dfc",
   "metadata": {},
   "outputs": [],
   "source": [
    "df.shape"
   ]
  },
  {
   "cell_type": "code",
   "execution_count": null,
   "id": "521da529-8cac-40a4-9773-451e28eb56a7",
   "metadata": {},
   "outputs": [],
   "source": [
    "# Checking for observations with missing data"
   ]
  },
  {
   "cell_type": "code",
   "execution_count": null,
   "id": "9b038e6f-fcda-4898-93b4-eb25f7fbd2ae",
   "metadata": {},
   "outputs": [],
   "source": [
    "# Extract the different observation types\n",
    "\n",
    "observation_types = ['cloud_cover', 'wind_speed', 'humidity', 'pressure',\n",
    "                     'global_radiation', 'precipitation', 'snow_depth', \n",
    "                     'sunshine', 'temp_mean', 'temp_min', 'temp_max']"
   ]
  },
  {
   "cell_type": "code",
   "execution_count": null,
   "id": "6129773f-7c6d-4c47-acc1-61b951f12e99",
   "metadata": {},
   "outputs": [],
   "source": [
    "# Create a dictionary to store the count of stations for each observation type\n",
    "station_counts = {}\n",
    "\n",
    "for obs in observation_types:\n",
    "    # Select columns related to the current observation type\n",
    "    columns = [col for col in df.columns if col.endswith(obs)]\n",
    "    \n",
    "    # Count the number of stations (i.e., the number of columns) for the current observation type\n",
    "    station_counts[obs] = len(columns)\n",
    "\n",
    "# Print the count of stations for each observation type\n",
    "print(\"Number of stations covered by each observation type:\")\n",
    "for obs, count in station_counts.items():\n",
    "    print(f\"{obs}: {count} stations\")"
   ]
  },
  {
   "cell_type": "markdown",
   "id": "d9934c9f-1f5b-474a-8ae0-0fcb7c8be013",
   "metadata": {},
   "source": [
    "##### Wind speed and snow depth are missing data"
   ]
  },
  {
   "cell_type": "code",
   "execution_count": null,
   "id": "ac1b71b6-3039-4e62-8f63-8c835f841fb1",
   "metadata": {},
   "outputs": [],
   "source": [
    "# Dropping columns containing wind speed and snow depth\n",
    "\n",
    "dropcols = [col for col in df.columns if 'wind_speed' in col or 'snow_depth' in col]\n",
    "\n",
    "df = df.drop(dropcols, axis=1)"
   ]
  },
  {
   "cell_type": "code",
   "execution_count": null,
   "id": "25052b15-ace6-447c-8e3d-51deb879a33e",
   "metadata": {},
   "outputs": [],
   "source": [
    "df.shape"
   ]
  },
  {
   "cell_type": "code",
   "execution_count": null,
   "id": "449ef3f8-a4fd-495f-b5a0-65a80e86532d",
   "metadata": {},
   "outputs": [],
   "source": [
    "# Creating data for 3 missing observations"
   ]
  },
  {
   "cell_type": "code",
   "execution_count": null,
   "id": "71b90bc7-074d-45b1-ab51-97861836b4e1",
   "metadata": {},
   "outputs": [],
   "source": [
    "# Create a list of all unique station names in the dataset\n",
    "\n",
    "all_stations = set([col.split('_')[0] for col in df.columns if '_' in col])\n",
    "all_stations"
   ]
  },
  {
   "cell_type": "code",
   "execution_count": null,
   "id": "aa5ba899-b7bd-466b-83ea-0a538ef912f1",
   "metadata": {},
   "outputs": [],
   "source": [
    "# Find stations missing observation types\n",
    "\n",
    "observation_types = ['cloud_cover', 'humidity', 'pressure']\n",
    "\n",
    "missing_stations_by_observation = {}\n",
    "\n",
    "for obs in observation_types:\n",
    "    # Select columns related to the current observation type\n",
    "    columns = [col for col in df.columns if col.endswith(obs)]\n",
    "    \n",
    "    # Extract station names by removing the observation type from the column names\n",
    "    station_names = set([col.replace(f'_{obs}', '') for col in columns])\n",
    "    \n",
    "    # Identify stations that are in all_stations but missing from the current observation type\n",
    "    missing_stations = all_stations - station_names\n",
    "    \n",
    "    # Store the missing station names in the dictionary\n",
    "    missing_stations_by_observation[obs] = missing_stations\n",
    "\n",
    "# Print the missing station names for each observation type\n",
    "for obs, missing_stations in missing_stations_by_observation.items():\n",
    "    print(f\"\\nStations missing from {obs}:\")\n",
    "    if missing_stations:\n",
    "        for station in missing_stations:\n",
    "            print(station)\n",
    "    else:\n",
    "        print(\"None\")"
   ]
  },
  {
   "cell_type": "markdown",
   "id": "116c88b8-57a8-4181-a6db-da88e6ab4738",
   "metadata": {},
   "source": [
    "##### Impute values for these 3 stations with values from nearby stations"
   ]
  },
  {
   "cell_type": "code",
   "execution_count": null,
   "id": "6bed41c7-2464-4b28-a5ae-1433cd212d24",
   "metadata": {},
   "outputs": [],
   "source": [
    "# Finding cloud cover info from Ljublijana\n",
    "\n",
    "df.columns.get_loc('LJUBLJANA_cloud_cover')"
   ]
  },
  {
   "cell_type": "code",
   "execution_count": null,
   "id": "ceed87b1-825f-4793-85ac-f5b94a4d8add",
   "metadata": {},
   "outputs": [],
   "source": [
    "# Finding humidity info from Olso\n",
    "\n",
    "df.columns.get_loc('OSLO_humidity')"
   ]
  },
  {
   "cell_type": "code",
   "execution_count": null,
   "id": "07cc9676-120c-4c74-aca4-cd4862eaafad",
   "metadata": {},
   "outputs": [],
   "source": [
    "# Finding pressure info from Sonnblick\n",
    "\n",
    "df.columns.get_loc('SONNBLICK_pressure')"
   ]
  },
  {
   "cell_type": "code",
   "execution_count": null,
   "id": "abdb597d-9297-4c29-9dfc-4afe06b2acde",
   "metadata": {},
   "outputs": [],
   "source": [
    "# Inserting values for missing data\n",
    "\n",
    "df.insert(62,'KASSEL_cloud_cover', df['LJUBLJANA_cloud_cover'])\n",
    "df.insert(98, 'STOCKHOLM_humidity', df['OSLO_humidity'])\n",
    "df.insert(108,'MUNCHENB_pressure',df['SONNBLICK_pressure'])"
   ]
  },
  {
   "cell_type": "code",
   "execution_count": null,
   "id": "40d20260-35b4-43dc-aff2-4de781fdce8e",
   "metadata": {},
   "outputs": [],
   "source": [
    "df.head()"
   ]
  },
  {
   "cell_type": "code",
   "execution_count": null,
   "id": "76125a8c-818c-407a-adf0-f86f5a4bd6be",
   "metadata": {},
   "outputs": [],
   "source": [
    "df.shape"
   ]
  },
  {
   "cell_type": "code",
   "execution_count": 33,
   "id": "021af43f-af03-4ee5-b1ab-72518ec706f2",
   "metadata": {},
   "outputs": [],
   "source": [
    "# Export cleaned dataset\n",
    "\n",
    "df.to_csv(os.path.join(path, '01 Data Sets', 'weather_cleaned.csv'), index = False)"
   ]
  },
  {
   "cell_type": "markdown",
   "id": "a4e78e92-f145-4c68-879b-d53db596fef1",
   "metadata": {},
   "source": [
    "### 3. Data reshaping"
   ]
  },
  {
   "cell_type": "code",
   "execution_count": 35,
   "id": "54595c4f-b2fb-4b41-9a99-504d27c9f32c",
   "metadata": {},
   "outputs": [],
   "source": [
    "# Assigning X and y \n",
    "\n",
    "X = df\n",
    "y = pleasant"
   ]
  },
  {
   "cell_type": "code",
   "execution_count": 67,
   "id": "a3052ee8-170c-4f20-bad0-1b0dfc91491d",
   "metadata": {},
   "outputs": [],
   "source": [
    "# Turn X and y into arrays\n",
    "\n",
    "X = np.array(X)\n",
    "y = np.array(y)"
   ]
  },
  {
   "cell_type": "code",
   "execution_count": 69,
   "id": "c42e265d-527b-4efc-8674-a90e0e68b679",
   "metadata": {},
   "outputs": [],
   "source": [
    "# Reshape X to fit dimensions\n",
    "\n",
    "X = X.reshape(-1,15,9)"
   ]
  },
  {
   "cell_type": "code",
   "execution_count": 71,
   "id": "f1a38e86-6b8a-41cb-9342-4f3322b5d3e6",
   "metadata": {},
   "outputs": [
    {
     "data": {
      "text/plain": [
       "(22950, 15, 9)"
      ]
     },
     "execution_count": 71,
     "metadata": {},
     "output_type": "execute_result"
    }
   ],
   "source": [
    "X.shape"
   ]
  },
  {
   "cell_type": "code",
   "execution_count": 73,
   "id": "a77a3b9e-d698-4457-bee7-2fd478a5e1db",
   "metadata": {},
   "outputs": [
    {
     "data": {
      "text/plain": [
       "(22950, 15)"
      ]
     },
     "execution_count": 73,
     "metadata": {},
     "output_type": "execute_result"
    }
   ],
   "source": [
    "y.shape"
   ]
  },
  {
   "cell_type": "code",
   "execution_count": 75,
   "id": "8defd82e-f942-4550-bad2-3092cd0bc6d0",
   "metadata": {},
   "outputs": [],
   "source": [
    "# Splitting data into training and test sets\n",
    "\n",
    "X_train, X_test, y_train, y_test = train_test_split(X,y,random_state = 42)"
   ]
  },
  {
   "cell_type": "code",
   "execution_count": 77,
   "id": "05f87bb3-f7e3-4fe3-9bfc-40df4b116f2f",
   "metadata": {},
   "outputs": [
    {
     "name": "stdout",
     "output_type": "stream",
     "text": [
      "(17212, 15, 9) (17212, 15)\n",
      "(5738, 15, 9) (5738, 15)\n"
     ]
    }
   ],
   "source": [
    "print(X_train.shape, y_train.shape)\n",
    "print(X_test.shape, y_test.shape)"
   ]
  },
  {
   "cell_type": "markdown",
   "id": "0015044a-5deb-4662-a61c-81fc45425102",
   "metadata": {},
   "source": [
    "### 4. Keras Model (CNN) #1"
   ]
  },
  {
   "cell_type": "code",
   "execution_count": 223,
   "id": "cc48dc86-e117-4e2f-88fe-a08e704dd828",
   "metadata": {},
   "outputs": [],
   "source": [
    "epochs = 30\n",
    "batch_size = 16\n",
    "n_hidden = 20\n",
    "\n",
    "timesteps = len(X_train[0])\n",
    "input_dim = len(X_train[0][0])\n",
    "n_classes = len(y_train[0])\n",
    "\n",
    "model = Sequential()\n",
    "model.add(Conv1D(n_hidden, kernel_size=2, activation='relu', input_shape=(timesteps, input_dim)))\n",
    "model.add(Dense(16, activation='relu'))\n",
    "model.add(MaxPooling1D())\n",
    "model.add(Flatten())\n",
    "model.add(Dense(n_classes, activation='softmax')) # Options: sigmoid, tanh, softmax, relu"
   ]
  },
  {
   "cell_type": "code",
   "execution_count": 224,
   "id": "7ec84eed-3a0d-4902-810e-1fd47b406d68",
   "metadata": {},
   "outputs": [],
   "source": [
    "model.compile(loss='categorical_crossentropy',\n",
    "              optimizer='rmsprop',\n",
    "              metrics=['accuracy'])"
   ]
  },
  {
   "cell_type": "code",
   "execution_count": 225,
   "id": "1827ea43-b6b6-430e-99b9-aebf8bbe71e2",
   "metadata": {},
   "outputs": [
    {
     "name": "stdout",
     "output_type": "stream",
     "text": [
      "Epoch 1/30\n",
      "\u001b[1m1076/1076\u001b[0m \u001b[32m━━━━━━━━━━━━━━━━━━━━\u001b[0m\u001b[37m\u001b[0m \u001b[1m3s\u001b[0m 2ms/step - accuracy: 0.0948 - loss: 307.2654 - val_accuracy: 0.1148 - val_loss: 3074.1230\n",
      "Epoch 2/30\n",
      "\u001b[1m1076/1076\u001b[0m \u001b[32m━━━━━━━━━━━━━━━━━━━━\u001b[0m\u001b[37m\u001b[0m \u001b[1m2s\u001b[0m 2ms/step - accuracy: 0.1338 - loss: 6009.2749 - val_accuracy: 0.1626 - val_loss: 18194.2246\n",
      "Epoch 3/30\n",
      "\u001b[1m1076/1076\u001b[0m \u001b[32m━━━━━━━━━━━━━━━━━━━━\u001b[0m\u001b[37m\u001b[0m \u001b[1m2s\u001b[0m 2ms/step - accuracy: 0.1281 - loss: 28022.3438 - val_accuracy: 0.1148 - val_loss: 52868.3125\n",
      "Epoch 4/30\n",
      "\u001b[1m1076/1076\u001b[0m \u001b[32m━━━━━━━━━━━━━━━━━━━━\u001b[0m\u001b[37m\u001b[0m \u001b[1m2s\u001b[0m 2ms/step - accuracy: 0.1133 - loss: 72137.6016 - val_accuracy: 0.0997 - val_loss: 115381.1953\n",
      "Epoch 5/30\n",
      "\u001b[1m1076/1076\u001b[0m \u001b[32m━━━━━━━━━━━━━━━━━━━━\u001b[0m\u001b[37m\u001b[0m \u001b[1m2s\u001b[0m 2ms/step - accuracy: 0.1126 - loss: 148788.3125 - val_accuracy: 0.0390 - val_loss: 212646.7500\n",
      "Epoch 6/30\n",
      "\u001b[1m1076/1076\u001b[0m \u001b[32m━━━━━━━━━━━━━━━━━━━━\u001b[0m\u001b[37m\u001b[0m \u001b[1m2s\u001b[0m 2ms/step - accuracy: 0.1112 - loss: 258269.9219 - val_accuracy: 0.1734 - val_loss: 342481.1250\n",
      "Epoch 7/30\n",
      "\u001b[1m1076/1076\u001b[0m \u001b[32m━━━━━━━━━━━━━━━━━━━━\u001b[0m\u001b[37m\u001b[0m \u001b[1m2s\u001b[0m 2ms/step - accuracy: 0.1077 - loss: 424286.5938 - val_accuracy: 0.0375 - val_loss: 521152.8750\n",
      "Epoch 8/30\n",
      "\u001b[1m1076/1076\u001b[0m \u001b[32m━━━━━━━━━━━━━━━━━━━━\u001b[0m\u001b[37m\u001b[0m \u001b[1m2s\u001b[0m 2ms/step - accuracy: 0.1126 - loss: 583948.6250 - val_accuracy: 0.0702 - val_loss: 718184.2500\n",
      "Epoch 9/30\n",
      "\u001b[1m1076/1076\u001b[0m \u001b[32m━━━━━━━━━━━━━━━━━━━━\u001b[0m\u001b[37m\u001b[0m \u001b[1m2s\u001b[0m 2ms/step - accuracy: 0.1096 - loss: 867152.5625 - val_accuracy: 0.0171 - val_loss: 966211.8750\n",
      "Epoch 10/30\n",
      "\u001b[1m1076/1076\u001b[0m \u001b[32m━━━━━━━━━━━━━━━━━━━━\u001b[0m\u001b[37m\u001b[0m \u001b[1m2s\u001b[0m 2ms/step - accuracy: 0.1115 - loss: 1136291.5000 - val_accuracy: 0.0716 - val_loss: 1251995.5000\n",
      "Epoch 11/30\n",
      "\u001b[1m1076/1076\u001b[0m \u001b[32m━━━━━━━━━━━━━━━━━━━━\u001b[0m\u001b[37m\u001b[0m \u001b[1m2s\u001b[0m 2ms/step - accuracy: 0.1111 - loss: 1528754.0000 - val_accuracy: 0.0535 - val_loss: 1659226.0000\n",
      "Epoch 12/30\n",
      "\u001b[1m1076/1076\u001b[0m \u001b[32m━━━━━━━━━━━━━━━━━━━━\u001b[0m\u001b[37m\u001b[0m \u001b[1m2s\u001b[0m 2ms/step - accuracy: 0.1128 - loss: 1859823.6250 - val_accuracy: 0.0798 - val_loss: 2023692.3750\n",
      "Epoch 13/30\n",
      "\u001b[1m1076/1076\u001b[0m \u001b[32m━━━━━━━━━━━━━━━━━━━━\u001b[0m\u001b[37m\u001b[0m \u001b[1m2s\u001b[0m 2ms/step - accuracy: 0.1139 - loss: 2373328.7500 - val_accuracy: 0.2600 - val_loss: 2468138.5000\n",
      "Epoch 14/30\n",
      "\u001b[1m1076/1076\u001b[0m \u001b[32m━━━━━━━━━━━━━━━━━━━━\u001b[0m\u001b[37m\u001b[0m \u001b[1m2s\u001b[0m 2ms/step - accuracy: 0.1143 - loss: 2903585.0000 - val_accuracy: 0.4908 - val_loss: 3046929.7500\n",
      "Epoch 15/30\n",
      "\u001b[1m1076/1076\u001b[0m \u001b[32m━━━━━━━━━━━━━━━━━━━━\u001b[0m\u001b[37m\u001b[0m \u001b[1m2s\u001b[0m 2ms/step - accuracy: 0.1175 - loss: 3470289.7500 - val_accuracy: 0.1898 - val_loss: 3720206.0000\n",
      "Epoch 16/30\n",
      "\u001b[1m1076/1076\u001b[0m \u001b[32m━━━━━━━━━━━━━━━━━━━━\u001b[0m\u001b[37m\u001b[0m \u001b[1m2s\u001b[0m 2ms/step - accuracy: 0.1072 - loss: 4185510.5000 - val_accuracy: 0.0615 - val_loss: 4407750.5000\n",
      "Epoch 17/30\n",
      "\u001b[1m1076/1076\u001b[0m \u001b[32m━━━━━━━━━━━━━━━━━━━━\u001b[0m\u001b[37m\u001b[0m \u001b[1m2s\u001b[0m 2ms/step - accuracy: 0.1140 - loss: 5052646.5000 - val_accuracy: 0.0486 - val_loss: 5031122.5000\n",
      "Epoch 18/30\n",
      "\u001b[1m1076/1076\u001b[0m \u001b[32m━━━━━━━━━━━━━━━━━━━━\u001b[0m\u001b[37m\u001b[0m \u001b[1m2s\u001b[0m 2ms/step - accuracy: 0.1104 - loss: 5513876.5000 - val_accuracy: 0.4099 - val_loss: 5945430.5000\n",
      "Epoch 19/30\n",
      "\u001b[1m1076/1076\u001b[0m \u001b[32m━━━━━━━━━━━━━━━━━━━━\u001b[0m\u001b[37m\u001b[0m \u001b[1m2s\u001b[0m 2ms/step - accuracy: 0.1119 - loss: 6936437.5000 - val_accuracy: 0.0631 - val_loss: 6828644.5000\n",
      "Epoch 20/30\n",
      "\u001b[1m1076/1076\u001b[0m \u001b[32m━━━━━━━━━━━━━━━━━━━━\u001b[0m\u001b[37m\u001b[0m \u001b[1m2s\u001b[0m 2ms/step - accuracy: 0.1108 - loss: 7570045.0000 - val_accuracy: 0.0310 - val_loss: 7923893.5000\n",
      "Epoch 21/30\n",
      "\u001b[1m1076/1076\u001b[0m \u001b[32m━━━━━━━━━━━━━━━━━━━━\u001b[0m\u001b[37m\u001b[0m \u001b[1m2s\u001b[0m 2ms/step - accuracy: 0.1116 - loss: 9060607.0000 - val_accuracy: 0.1368 - val_loss: 9163202.0000\n",
      "Epoch 22/30\n",
      "\u001b[1m1076/1076\u001b[0m \u001b[32m━━━━━━━━━━━━━━━━━━━━\u001b[0m\u001b[37m\u001b[0m \u001b[1m2s\u001b[0m 2ms/step - accuracy: 0.1190 - loss: 9390015.0000 - val_accuracy: 0.0343 - val_loss: 10356969.0000\n",
      "Epoch 23/30\n",
      "\u001b[1m1076/1076\u001b[0m \u001b[32m━━━━━━━━━━━━━━━━━━━━\u001b[0m\u001b[37m\u001b[0m \u001b[1m2s\u001b[0m 2ms/step - accuracy: 0.1148 - loss: 11418215.0000 - val_accuracy: 0.0704 - val_loss: 11779048.0000\n",
      "Epoch 24/30\n",
      "\u001b[1m1076/1076\u001b[0m \u001b[32m━━━━━━━━━━━━━━━━━━━━\u001b[0m\u001b[37m\u001b[0m \u001b[1m2s\u001b[0m 2ms/step - accuracy: 0.1127 - loss: 12988728.0000 - val_accuracy: 0.1955 - val_loss: 13459537.0000\n",
      "Epoch 25/30\n",
      "\u001b[1m1076/1076\u001b[0m \u001b[32m━━━━━━━━━━━━━━━━━━━━\u001b[0m\u001b[37m\u001b[0m \u001b[1m2s\u001b[0m 2ms/step - accuracy: 0.1099 - loss: 14713128.0000 - val_accuracy: 0.0802 - val_loss: 15156142.0000\n",
      "Epoch 26/30\n",
      "\u001b[1m1076/1076\u001b[0m \u001b[32m━━━━━━━━━━━━━━━━━━━━\u001b[0m\u001b[37m\u001b[0m \u001b[1m2s\u001b[0m 2ms/step - accuracy: 0.1172 - loss: 17883428.0000 - val_accuracy: 0.0528 - val_loss: 16776397.0000\n",
      "Epoch 27/30\n",
      "\u001b[1m1076/1076\u001b[0m \u001b[32m━━━━━━━━━━━━━━━━━━━━\u001b[0m\u001b[37m\u001b[0m \u001b[1m2s\u001b[0m 2ms/step - accuracy: 0.1152 - loss: 19586800.0000 - val_accuracy: 0.0864 - val_loss: 18927236.0000\n",
      "Epoch 28/30\n",
      "\u001b[1m1076/1076\u001b[0m \u001b[32m━━━━━━━━━━━━━━━━━━━━\u001b[0m\u001b[37m\u001b[0m \u001b[1m2s\u001b[0m 2ms/step - accuracy: 0.1120 - loss: 20638086.0000 - val_accuracy: 0.0061 - val_loss: 21120022.0000\n",
      "Epoch 29/30\n",
      "\u001b[1m1076/1076\u001b[0m \u001b[32m━━━━━━━━━━━━━━━━━━━━\u001b[0m\u001b[37m\u001b[0m \u001b[1m2s\u001b[0m 2ms/step - accuracy: 0.1182 - loss: 22293136.0000 - val_accuracy: 0.0532 - val_loss: 23137382.0000\n",
      "Epoch 30/30\n",
      "\u001b[1m1076/1076\u001b[0m \u001b[32m━━━━━━━━━━━━━━━━━━━━\u001b[0m\u001b[37m\u001b[0m \u001b[1m2s\u001b[0m 2ms/step - accuracy: 0.1117 - loss: 24447646.0000 - val_accuracy: 0.1232 - val_loss: 25397104.0000\n"
     ]
    },
    {
     "data": {
      "text/plain": [
       "<keras.src.callbacks.history.History at 0x1f9687612e0>"
      ]
     },
     "execution_count": 225,
     "metadata": {},
     "output_type": "execute_result"
    }
   ],
   "source": [
    "model.fit(X_train,\n",
    "          y_train,\n",
    "          batch_size=batch_size,\n",
    "          validation_data=(X_test, y_test),\n",
    "          epochs=epochs)"
   ]
  },
  {
   "cell_type": "code",
   "execution_count": 102,
   "id": "96fb85b1-c337-4a2b-9d01-0742c703d328",
   "metadata": {},
   "outputs": [],
   "source": [
    "# Define list of stations names\n",
    "\n",
    "stations = {\n",
    "0: 'BASEL',\n",
    "1: 'BELGRADE',\n",
    "2: 'BUDAPEST',\n",
    "3: 'DEBILT',\n",
    "4: 'DUSSELDORF',\n",
    "5: 'HEATHROW',\n",
    "6: 'KASSEL',\n",
    "7: 'LJUBLJANA',\n",
    "8: 'MAASTRICHT',\n",
    "9: 'MADRID',\n",
    "10: 'MUNCHENB',\n",
    "11: 'OSLO',\n",
    "12: 'SONNBLICK',\n",
    "13: 'STOCKHOLM',\n",
    "14: 'VALENTIA'}"
   ]
  },
  {
   "cell_type": "code",
   "execution_count": 104,
   "id": "66457fec-e9cc-4f1e-a10c-18b15f3b14d7",
   "metadata": {},
   "outputs": [
    {
     "name": "stdout",
     "output_type": "stream",
     "text": [
      "\u001b[1m180/180\u001b[0m \u001b[32m━━━━━━━━━━━━━━━━━━━━\u001b[0m\u001b[37m\u001b[0m \u001b[1m0s\u001b[0m 1ms/step  \n",
      "Pred        BASEL  BUDAPEST  DEBILT  DUSSELDORF  HEATHROW  KASSEL  LJUBLJANA  \\\n",
      "True                                                                           \n",
      "BASEL           4      1807    1212           2        91      21        197   \n",
      "BELGRADE        0       868     215           0         1       0          5   \n",
      "BUDAPEST        0       180      32           0         0       0          0   \n",
      "DEBILT          0        57      25           0         0       0          0   \n",
      "DUSSELDORF      0        16      13           0         0       0          0   \n",
      "HEATHROW        0        51      28           0         0       0          2   \n",
      "KASSEL          0         8       3           0         0       0          0   \n",
      "LJUBLJANA       0        48       6           0         0       0          6   \n",
      "MAASTRICHT      0         4       5           0         0       0          0   \n",
      "MADRID          0       223     151           0         1       0         42   \n",
      "MUNCHENB        0         8       0           0         0       0          0   \n",
      "OSLO            0         4       1           0         0       0          0   \n",
      "STOCKHOLM       0         3       1           0         0       0          0   \n",
      "VALENTIA        0         0       1           0         0       0          0   \n",
      "\n",
      "Pred        MAASTRICHT  MADRID  MUNCHENB  OSLO  SONNBLICK  STOCKHOLM  VALENTIA  \n",
      "True                                                                            \n",
      "BASEL                1     183        22     1          4        118        19  \n",
      "BELGRADE             0       1         0     0          0          2         0  \n",
      "BUDAPEST             0       0         0     0          0          2         0  \n",
      "DEBILT               0       0         0     0          0          0         0  \n",
      "DUSSELDORF           0       0         0     0          0          0         0  \n",
      "HEATHROW             0       1         0     0          0          0         0  \n",
      "KASSEL               0       0         0     0          0          0         0  \n",
      "LJUBLJANA            0       1         0     0          0          0         0  \n",
      "MAASTRICHT           0       0         0     0          0          0         0  \n",
      "MADRID               0      30         0     0          0         11         0  \n",
      "MUNCHENB             0       0         0     0          0          0         0  \n",
      "OSLO                 0       0         0     0          0          0         0  \n",
      "STOCKHOLM            0       0         0     0          0          0         0  \n",
      "VALENTIA             0       0         0     0          0          0         0  \n"
     ]
    }
   ],
   "source": [
    "# Creating confusion matrix\n",
    "\n",
    "def confusion_matrix(y_true, y_pred):\n",
    "    y_true = pd.Series([stations[y] for y in np.argmax(y_true, axis=1)])\n",
    "    y_pred = pd.Series([stations[y] for y in np.argmax(y_pred, axis=1)])\n",
    "\n",
    "    return pd.crosstab(y_true, y_pred, rownames=['True'], colnames=['Pred'])\n",
    "\n",
    "print(confusion_matrix(y_test, model.predict(X_test)))"
   ]
  },
  {
   "cell_type": "markdown",
   "id": "be6eb2b7-b739-46d8-8f02-8850d243c9da",
   "metadata": {},
   "source": [
    "### 5. Model #2"
   ]
  },
  {
   "cell_type": "code",
   "execution_count": 204,
   "id": "5cf1fdb9-aac3-4863-b43d-568c17bb5929",
   "metadata": {},
   "outputs": [],
   "source": [
    "epochs = 30\n",
    "batch_size = 8\n",
    "n_hidden = 40\n",
    "\n",
    "timesteps = len(X_train[0])\n",
    "input_dim = len(X_train[0][0])\n",
    "n_classes = len(y_train[0])\n",
    "\n",
    "model = Sequential()\n",
    "model.add(Conv1D(n_hidden, kernel_size=2, activation='relu', input_shape=(timesteps, input_dim)))\n",
    "model.add(Dense(16, activation='relu'))\n",
    "model.add(MaxPooling1D())\n",
    "model.add(Flatten())\n",
    "model.add(Dense(n_classes, activation='tanh')) # Options: sigmoid, tanh, softmax, relu"
   ]
  },
  {
   "cell_type": "code",
   "execution_count": 206,
   "id": "01658c29-aa17-44e2-ae89-6cc1b5cdf40f",
   "metadata": {},
   "outputs": [],
   "source": [
    "model.compile(loss='categorical_crossentropy',\n",
    "              optimizer='rmsprop',\n",
    "              metrics=['accuracy'])"
   ]
  },
  {
   "cell_type": "code",
   "execution_count": 208,
   "id": "b81b9a12-5bcb-41f1-8a7e-ace020af3f68",
   "metadata": {},
   "outputs": [
    {
     "name": "stdout",
     "output_type": "stream",
     "text": [
      "Epoch 1/30\n",
      "\u001b[1m2152/2152\u001b[0m \u001b[32m━━━━━━━━━━━━━━━━━━━━\u001b[0m\u001b[37m\u001b[0m \u001b[1m5s\u001b[0m 2ms/step - accuracy: 0.2643 - loss: 24.8991 - val_accuracy: 0.2743 - val_loss: 26.2923\n",
      "Epoch 2/30\n",
      "\u001b[1m2152/2152\u001b[0m \u001b[32m━━━━━━━━━━━━━━━━━━━━\u001b[0m\u001b[37m\u001b[0m \u001b[1m4s\u001b[0m 2ms/step - accuracy: 0.2874 - loss: 23.2217 - val_accuracy: 0.3031 - val_loss: 17.7642\n",
      "Epoch 3/30\n",
      "\u001b[1m2152/2152\u001b[0m \u001b[32m━━━━━━━━━━━━━━━━━━━━\u001b[0m\u001b[37m\u001b[0m \u001b[1m4s\u001b[0m 2ms/step - accuracy: 0.3165 - loss: 18.2947 - val_accuracy: 0.3156 - val_loss: 17.6996\n",
      "Epoch 4/30\n",
      "\u001b[1m2152/2152\u001b[0m \u001b[32m━━━━━━━━━━━━━━━━━━━━\u001b[0m\u001b[37m\u001b[0m \u001b[1m4s\u001b[0m 2ms/step - accuracy: 0.3195 - loss: 18.1588 - val_accuracy: 0.3372 - val_loss: 17.6434\n",
      "Epoch 5/30\n",
      "\u001b[1m2152/2152\u001b[0m \u001b[32m━━━━━━━━━━━━━━━━━━━━\u001b[0m\u001b[37m\u001b[0m \u001b[1m4s\u001b[0m 2ms/step - accuracy: 0.3446 - loss: 17.9940 - val_accuracy: 0.3297 - val_loss: 17.6434\n",
      "Epoch 6/30\n",
      "\u001b[1m2152/2152\u001b[0m \u001b[32m━━━━━━━━━━━━━━━━━━━━\u001b[0m\u001b[37m\u001b[0m \u001b[1m3s\u001b[0m 2ms/step - accuracy: 0.3360 - loss: 18.0189 - val_accuracy: 0.3303 - val_loss: 17.6434\n",
      "Epoch 7/30\n",
      "\u001b[1m2152/2152\u001b[0m \u001b[32m━━━━━━━━━━━━━━━━━━━━\u001b[0m\u001b[37m\u001b[0m \u001b[1m3s\u001b[0m 2ms/step - accuracy: 0.3424 - loss: 18.4370 - val_accuracy: 0.3304 - val_loss: 17.6434\n",
      "Epoch 8/30\n",
      "\u001b[1m2152/2152\u001b[0m \u001b[32m━━━━━━━━━━━━━━━━━━━━\u001b[0m\u001b[37m\u001b[0m \u001b[1m4s\u001b[0m 2ms/step - accuracy: 0.3385 - loss: 17.9821 - val_accuracy: 0.3313 - val_loss: 17.6434\n",
      "Epoch 9/30\n",
      "\u001b[1m2152/2152\u001b[0m \u001b[32m━━━━━━━━━━━━━━━━━━━━\u001b[0m\u001b[37m\u001b[0m \u001b[1m4s\u001b[0m 2ms/step - accuracy: 0.3351 - loss: 17.9490 - val_accuracy: 0.3316 - val_loss: 17.6434\n",
      "Epoch 10/30\n",
      "\u001b[1m2152/2152\u001b[0m \u001b[32m━━━━━━━━━━━━━━━━━━━━\u001b[0m\u001b[37m\u001b[0m \u001b[1m4s\u001b[0m 2ms/step - accuracy: 0.3376 - loss: 17.9493 - val_accuracy: 0.3325 - val_loss: 17.6434\n",
      "Epoch 11/30\n",
      "\u001b[1m2152/2152\u001b[0m \u001b[32m━━━━━━━━━━━━━━━━━━━━\u001b[0m\u001b[37m\u001b[0m \u001b[1m4s\u001b[0m 2ms/step - accuracy: 0.3352 - loss: 18.0232 - val_accuracy: 0.3332 - val_loss: 17.6434\n",
      "Epoch 12/30\n",
      "\u001b[1m2152/2152\u001b[0m \u001b[32m━━━━━━━━━━━━━━━━━━━━\u001b[0m\u001b[37m\u001b[0m \u001b[1m4s\u001b[0m 2ms/step - accuracy: 0.3436 - loss: 18.2724 - val_accuracy: 0.3339 - val_loss: 17.6434\n",
      "Epoch 13/30\n",
      "\u001b[1m2152/2152\u001b[0m \u001b[32m━━━━━━━━━━━━━━━━━━━━\u001b[0m\u001b[37m\u001b[0m \u001b[1m4s\u001b[0m 2ms/step - accuracy: 0.3440 - loss: 18.2967 - val_accuracy: 0.3344 - val_loss: 17.6434\n",
      "Epoch 14/30\n",
      "\u001b[1m2152/2152\u001b[0m \u001b[32m━━━━━━━━━━━━━━━━━━━━\u001b[0m\u001b[37m\u001b[0m \u001b[1m4s\u001b[0m 2ms/step - accuracy: 0.3363 - loss: 17.6758 - val_accuracy: 0.3350 - val_loss: 17.6434\n",
      "Epoch 15/30\n",
      "\u001b[1m2152/2152\u001b[0m \u001b[32m━━━━━━━━━━━━━━━━━━━━\u001b[0m\u001b[37m\u001b[0m \u001b[1m4s\u001b[0m 2ms/step - accuracy: 0.3447 - loss: 18.2557 - val_accuracy: 0.3357 - val_loss: 17.6434\n",
      "Epoch 16/30\n",
      "\u001b[1m2152/2152\u001b[0m \u001b[32m━━━━━━━━━━━━━━━━━━━━\u001b[0m\u001b[37m\u001b[0m \u001b[1m4s\u001b[0m 2ms/step - accuracy: 0.3401 - loss: 18.0845 - val_accuracy: 0.3360 - val_loss: 17.6434\n",
      "Epoch 17/30\n",
      "\u001b[1m2152/2152\u001b[0m \u001b[32m━━━━━━━━━━━━━━━━━━━━\u001b[0m\u001b[37m\u001b[0m \u001b[1m4s\u001b[0m 2ms/step - accuracy: 0.3459 - loss: 18.1620 - val_accuracy: 0.3365 - val_loss: 17.6434\n",
      "Epoch 18/30\n",
      "\u001b[1m2152/2152\u001b[0m \u001b[32m━━━━━━━━━━━━━━━━━━━━\u001b[0m\u001b[37m\u001b[0m \u001b[1m4s\u001b[0m 2ms/step - accuracy: 0.3415 - loss: 18.0772 - val_accuracy: 0.3371 - val_loss: 17.6434\n",
      "Epoch 19/30\n",
      "\u001b[1m2152/2152\u001b[0m \u001b[32m━━━━━━━━━━━━━━━━━━━━\u001b[0m\u001b[37m\u001b[0m \u001b[1m4s\u001b[0m 2ms/step - accuracy: 0.3407 - loss: 17.8707 - val_accuracy: 0.3381 - val_loss: 17.6434\n",
      "Epoch 20/30\n",
      "\u001b[1m2152/2152\u001b[0m \u001b[32m━━━━━━━━━━━━━━━━━━━━\u001b[0m\u001b[37m\u001b[0m \u001b[1m4s\u001b[0m 2ms/step - accuracy: 0.3432 - loss: 18.0101 - val_accuracy: 0.3384 - val_loss: 17.6434\n",
      "Epoch 21/30\n",
      "\u001b[1m2152/2152\u001b[0m \u001b[32m━━━━━━━━━━━━━━━━━━━━\u001b[0m\u001b[37m\u001b[0m \u001b[1m4s\u001b[0m 2ms/step - accuracy: 0.3426 - loss: 17.7015 - val_accuracy: 0.3390 - val_loss: 17.6434\n",
      "Epoch 22/30\n",
      "\u001b[1m2152/2152\u001b[0m \u001b[32m━━━━━━━━━━━━━━━━━━━━\u001b[0m\u001b[37m\u001b[0m \u001b[1m4s\u001b[0m 2ms/step - accuracy: 0.3426 - loss: 18.0520 - val_accuracy: 0.3393 - val_loss: 17.6434\n",
      "Epoch 23/30\n",
      "\u001b[1m2152/2152\u001b[0m \u001b[32m━━━━━━━━━━━━━━━━━━━━\u001b[0m\u001b[37m\u001b[0m \u001b[1m4s\u001b[0m 2ms/step - accuracy: 0.3547 - loss: 18.4414 - val_accuracy: 0.3395 - val_loss: 17.6434\n",
      "Epoch 24/30\n",
      "\u001b[1m2152/2152\u001b[0m \u001b[32m━━━━━━━━━━━━━━━━━━━━\u001b[0m\u001b[37m\u001b[0m \u001b[1m4s\u001b[0m 2ms/step - accuracy: 0.3516 - loss: 17.9885 - val_accuracy: 0.3402 - val_loss: 17.6434\n",
      "Epoch 25/30\n",
      "\u001b[1m2152/2152\u001b[0m \u001b[32m━━━━━━━━━━━━━━━━━━━━\u001b[0m\u001b[37m\u001b[0m \u001b[1m4s\u001b[0m 2ms/step - accuracy: 0.3448 - loss: 17.9956 - val_accuracy: 0.3400 - val_loss: 17.6434\n",
      "Epoch 26/30\n",
      "\u001b[1m2152/2152\u001b[0m \u001b[32m━━━━━━━━━━━━━━━━━━━━\u001b[0m\u001b[37m\u001b[0m \u001b[1m4s\u001b[0m 2ms/step - accuracy: 0.3429 - loss: 17.9633 - val_accuracy: 0.3405 - val_loss: 17.6434\n",
      "Epoch 27/30\n",
      "\u001b[1m2152/2152\u001b[0m \u001b[32m━━━━━━━━━━━━━━━━━━━━\u001b[0m\u001b[37m\u001b[0m \u001b[1m4s\u001b[0m 2ms/step - accuracy: 0.3484 - loss: 18.0435 - val_accuracy: 0.3407 - val_loss: 17.6434\n",
      "Epoch 28/30\n",
      "\u001b[1m2152/2152\u001b[0m \u001b[32m━━━━━━━━━━━━━━━━━━━━\u001b[0m\u001b[37m\u001b[0m \u001b[1m4s\u001b[0m 2ms/step - accuracy: 0.3479 - loss: 18.0483 - val_accuracy: 0.3409 - val_loss: 17.6434\n",
      "Epoch 29/30\n",
      "\u001b[1m2152/2152\u001b[0m \u001b[32m━━━━━━━━━━━━━━━━━━━━\u001b[0m\u001b[37m\u001b[0m \u001b[1m4s\u001b[0m 2ms/step - accuracy: 0.3409 - loss: 17.6202 - val_accuracy: 0.3409 - val_loss: 17.6434\n",
      "Epoch 30/30\n",
      "\u001b[1m2152/2152\u001b[0m \u001b[32m━━━━━━━━━━━━━━━━━━━━\u001b[0m\u001b[37m\u001b[0m \u001b[1m4s\u001b[0m 2ms/step - accuracy: 0.3416 - loss: 18.1012 - val_accuracy: 0.3409 - val_loss: 17.6434\n"
     ]
    },
    {
     "data": {
      "text/plain": [
       "<keras.src.callbacks.history.History at 0x1f967512240>"
      ]
     },
     "execution_count": 208,
     "metadata": {},
     "output_type": "execute_result"
    }
   ],
   "source": [
    "model.fit(X_train,\n",
    "          y_train,\n",
    "          batch_size=batch_size,\n",
    "          validation_data=(X_test, y_test),\n",
    "          epochs=epochs)"
   ]
  },
  {
   "cell_type": "code",
   "execution_count": 210,
   "id": "5111fba2-766e-47a0-baf6-e2eb6afd47d7",
   "metadata": {},
   "outputs": [
    {
     "name": "stdout",
     "output_type": "stream",
     "text": [
      "\u001b[1m180/180\u001b[0m \u001b[32m━━━━━━━━━━━━━━━━━━━━\u001b[0m\u001b[37m\u001b[0m \u001b[1m0s\u001b[0m 944us/step\n",
      "Pred        BASEL  DUSSELDORF  LJUBLJANA  OSLO  SONNBLICK  STOCKHOLM  VALENTIA\n",
      "True                                                                          \n",
      "BASEL        1955         222        266   150        189        813        87\n",
      "BELGRADE     1039          32          5    15          0          0         1\n",
      "BUDAPEST      209           4          0     1          0          0         0\n",
      "DEBILT         82           0          0     0          0          0         0\n",
      "DUSSELDORF     28           1          0     0          0          0         0\n",
      "HEATHROW       77           5          0     0          0          0         0\n",
      "KASSEL         11           0          0     0          0          0         0\n",
      "LJUBLJANA      60           1          0     0          0          0         0\n",
      "MAASTRICHT      7           2          0     0          0          0         0\n",
      "MADRID        379          43         20     5          5          6         0\n",
      "MUNCHENB        7           1          0     0          0          0         0\n",
      "OSLO            5           0          0     0          0          0         0\n",
      "STOCKHOLM       4           0          0     0          0          0         0\n",
      "VALENTIA        1           0          0     0          0          0         0\n"
     ]
    }
   ],
   "source": [
    "# Creating confusion matrix\n",
    "\n",
    "def confusion_matrix(y_true, y_pred):\n",
    "    y_true = pd.Series([stations[y] for y in np.argmax(y_true, axis=1)])\n",
    "    y_pred = pd.Series([stations[y] for y in np.argmax(y_pred, axis=1)])\n",
    "\n",
    "    return pd.crosstab(y_true, y_pred, rownames=['True'], colnames=['Pred'])\n",
    "\n",
    "print(confusion_matrix(y_test, model.predict(X_test)))"
   ]
  },
  {
   "cell_type": "markdown",
   "id": "5bdcb7a3-9c34-4d26-86e2-211e10e8ced6",
   "metadata": {},
   "source": [
    "### 6. Model #3"
   ]
  },
  {
   "cell_type": "code",
   "execution_count": 250,
   "id": "5d8a6ad8-6e53-4a90-b675-ca92a4f1113c",
   "metadata": {},
   "outputs": [],
   "source": [
    "epochs = 20\n",
    "batch_size = 16\n",
    "n_hidden = 20\n",
    "\n",
    "timesteps = len(X_train[0])\n",
    "input_dim = len(X_train[0][0])\n",
    "n_classes = len(y_train[0])\n",
    "\n",
    "model = Sequential()\n",
    "model.add(Conv1D(n_hidden, kernel_size=2, activation='relu', input_shape=(timesteps, input_dim)))\n",
    "model.add(Dense(16, activation='relu'))\n",
    "model.add(MaxPooling1D())\n",
    "model.add(Flatten())\n",
    "model.add(Dense(n_classes, activation='sigmoid')) # Options: sigmoid, tanh, softmax, relu"
   ]
  },
  {
   "cell_type": "code",
   "execution_count": 252,
   "id": "f7cd1eda-85fc-4982-ac8e-5cb30e530721",
   "metadata": {},
   "outputs": [],
   "source": [
    "model.compile(loss='categorical_crossentropy',\n",
    "              optimizer='rmsprop',\n",
    "              metrics=['accuracy'])"
   ]
  },
  {
   "cell_type": "code",
   "execution_count": 254,
   "id": "b32e5521-4eb2-4c33-b1ea-53e04d4c7484",
   "metadata": {},
   "outputs": [
    {
     "name": "stdout",
     "output_type": "stream",
     "text": [
      "Epoch 1/20\n",
      "\u001b[1m1076/1076\u001b[0m \u001b[32m━━━━━━━━━━━━━━━━━━━━\u001b[0m\u001b[37m\u001b[0m \u001b[1m3s\u001b[0m 2ms/step - accuracy: 0.1019 - loss: 230.5476 - val_accuracy: 0.1014 - val_loss: 2012.9261\n",
      "Epoch 2/20\n",
      "\u001b[1m1076/1076\u001b[0m \u001b[32m━━━━━━━━━━━━━━━━━━━━\u001b[0m\u001b[37m\u001b[0m \u001b[1m2s\u001b[0m 2ms/step - accuracy: 0.1165 - loss: 4048.8606 - val_accuracy: 0.2456 - val_loss: 11755.0146\n",
      "Epoch 3/20\n",
      "\u001b[1m1076/1076\u001b[0m \u001b[32m━━━━━━━━━━━━━━━━━━━━\u001b[0m\u001b[37m\u001b[0m \u001b[1m2s\u001b[0m 2ms/step - accuracy: 0.1187 - loss: 18020.7109 - val_accuracy: 0.0411 - val_loss: 34604.5859\n",
      "Epoch 4/20\n",
      "\u001b[1m1076/1076\u001b[0m \u001b[32m━━━━━━━━━━━━━━━━━━━━\u001b[0m\u001b[37m\u001b[0m \u001b[1m2s\u001b[0m 2ms/step - accuracy: 0.1020 - loss: 47783.5078 - val_accuracy: 0.0301 - val_loss: 75025.1094\n",
      "Epoch 5/20\n",
      "\u001b[1m1076/1076\u001b[0m \u001b[32m━━━━━━━━━━━━━━━━━━━━\u001b[0m\u001b[37m\u001b[0m \u001b[1m2s\u001b[0m 2ms/step - accuracy: 0.1054 - loss: 96612.0469 - val_accuracy: 0.0441 - val_loss: 140405.8438\n",
      "Epoch 6/20\n",
      "\u001b[1m1076/1076\u001b[0m \u001b[32m━━━━━━━━━━━━━━━━━━━━\u001b[0m\u001b[37m\u001b[0m \u001b[1m2s\u001b[0m 2ms/step - accuracy: 0.1084 - loss: 176048.8281 - val_accuracy: 0.1868 - val_loss: 225329.3438\n",
      "Epoch 7/20\n",
      "\u001b[1m1076/1076\u001b[0m \u001b[32m━━━━━━━━━━━━━━━━━━━━\u001b[0m\u001b[37m\u001b[0m \u001b[1m2s\u001b[0m 2ms/step - accuracy: 0.1105 - loss: 266117.1875 - val_accuracy: 0.1096 - val_loss: 332761.5938\n",
      "Epoch 8/20\n",
      "\u001b[1m1076/1076\u001b[0m \u001b[32m━━━━━━━━━━━━━━━━━━━━\u001b[0m\u001b[37m\u001b[0m \u001b[1m2s\u001b[0m 2ms/step - accuracy: 0.1055 - loss: 409800.8750 - val_accuracy: 0.4001 - val_loss: 483578.3438\n",
      "Epoch 9/20\n",
      "\u001b[1m1076/1076\u001b[0m \u001b[32m━━━━━━━━━━━━━━━━━━━━\u001b[0m\u001b[37m\u001b[0m \u001b[1m2s\u001b[0m 2ms/step - accuracy: 0.1157 - loss: 574910.3750 - val_accuracy: 0.0298 - val_loss: 660439.0625\n",
      "Epoch 10/20\n",
      "\u001b[1m1076/1076\u001b[0m \u001b[32m━━━━━━━━━━━━━━━━━━━━\u001b[0m\u001b[37m\u001b[0m \u001b[1m2s\u001b[0m 2ms/step - accuracy: 0.1063 - loss: 828007.1875 - val_accuracy: 0.1264 - val_loss: 880793.8125\n",
      "Epoch 11/20\n",
      "\u001b[1m1076/1076\u001b[0m \u001b[32m━━━━━━━━━━━━━━━━━━━━\u001b[0m\u001b[37m\u001b[0m \u001b[1m2s\u001b[0m 2ms/step - accuracy: 0.1122 - loss: 1014368.8750 - val_accuracy: 0.1692 - val_loss: 1150768.8750\n",
      "Epoch 12/20\n",
      "\u001b[1m1076/1076\u001b[0m \u001b[32m━━━━━━━━━━━━━━━━━━━━\u001b[0m\u001b[37m\u001b[0m \u001b[1m2s\u001b[0m 2ms/step - accuracy: 0.1137 - loss: 1355567.8750 - val_accuracy: 0.0383 - val_loss: 1499712.7500\n",
      "Epoch 13/20\n",
      "\u001b[1m1076/1076\u001b[0m \u001b[32m━━━━━━━━━━━━━━━━━━━━\u001b[0m\u001b[37m\u001b[0m \u001b[1m2s\u001b[0m 2ms/step - accuracy: 0.1109 - loss: 1790975.5000 - val_accuracy: 0.0955 - val_loss: 1840676.2500\n",
      "Epoch 14/20\n",
      "\u001b[1m1076/1076\u001b[0m \u001b[32m━━━━━━━━━━━━━━━━━━━━\u001b[0m\u001b[37m\u001b[0m \u001b[1m2s\u001b[0m 2ms/step - accuracy: 0.1138 - loss: 2139121.7500 - val_accuracy: 0.0260 - val_loss: 2277671.5000\n",
      "Epoch 15/20\n",
      "\u001b[1m1076/1076\u001b[0m \u001b[32m━━━━━━━━━━━━━━━━━━━━\u001b[0m\u001b[37m\u001b[0m \u001b[1m2s\u001b[0m 2ms/step - accuracy: 0.1125 - loss: 2625511.2500 - val_accuracy: 0.0296 - val_loss: 2776524.5000\n",
      "Epoch 16/20\n",
      "\u001b[1m1076/1076\u001b[0m \u001b[32m━━━━━━━━━━━━━━━━━━━━\u001b[0m\u001b[37m\u001b[0m \u001b[1m2s\u001b[0m 2ms/step - accuracy: 0.1152 - loss: 3132654.5000 - val_accuracy: 0.0282 - val_loss: 3312232.5000\n",
      "Epoch 17/20\n",
      "\u001b[1m1076/1076\u001b[0m \u001b[32m━━━━━━━━━━━━━━━━━━━━\u001b[0m\u001b[37m\u001b[0m \u001b[1m2s\u001b[0m 2ms/step - accuracy: 0.1138 - loss: 3713081.5000 - val_accuracy: 0.0742 - val_loss: 4000897.2500\n",
      "Epoch 18/20\n",
      "\u001b[1m1076/1076\u001b[0m \u001b[32m━━━━━━━━━━━━━━━━━━━━\u001b[0m\u001b[37m\u001b[0m \u001b[1m2s\u001b[0m 2ms/step - accuracy: 0.1128 - loss: 4605155.5000 - val_accuracy: 0.1657 - val_loss: 4695760.5000\n",
      "Epoch 19/20\n",
      "\u001b[1m1076/1076\u001b[0m \u001b[32m━━━━━━━━━━━━━━━━━━━━\u001b[0m\u001b[37m\u001b[0m \u001b[1m2s\u001b[0m 2ms/step - accuracy: 0.1116 - loss: 5237819.0000 - val_accuracy: 0.1616 - val_loss: 5482114.0000\n",
      "Epoch 20/20\n",
      "\u001b[1m1076/1076\u001b[0m \u001b[32m━━━━━━━━━━━━━━━━━━━━\u001b[0m\u001b[37m\u001b[0m \u001b[1m2s\u001b[0m 2ms/step - accuracy: 0.1150 - loss: 6405094.0000 - val_accuracy: 0.0687 - val_loss: 6429719.0000\n"
     ]
    },
    {
     "data": {
      "text/plain": [
       "<keras.src.callbacks.history.History at 0x1f9653d5d90>"
      ]
     },
     "execution_count": 254,
     "metadata": {},
     "output_type": "execute_result"
    }
   ],
   "source": [
    "model.fit(X_train,\n",
    "          y_train,\n",
    "          batch_size=batch_size,\n",
    "          validation_data=(X_test, y_test),\n",
    "          epochs=epochs)"
   ]
  },
  {
   "cell_type": "code",
   "execution_count": 256,
   "id": "5c0f8452-4aac-4a79-a78b-1fe51698254c",
   "metadata": {},
   "outputs": [
    {
     "name": "stdout",
     "output_type": "stream",
     "text": [
      "\u001b[1m180/180\u001b[0m \u001b[32m━━━━━━━━━━━━━━━━━━━━\u001b[0m\u001b[37m\u001b[0m \u001b[1m0s\u001b[0m 937us/step\n",
      "Pred        BASEL  BELGRADE  VALENTIA\n",
      "True                                 \n",
      "BASEL        3675         1         6\n",
      "BELGRADE     1092         0         0\n",
      "BUDAPEST      214         0         0\n",
      "DEBILT         82         0         0\n",
      "DUSSELDORF     29         0         0\n",
      "HEATHROW       82         0         0\n",
      "KASSEL         11         0         0\n",
      "LJUBLJANA      61         0         0\n",
      "MAASTRICHT      9         0         0\n",
      "MADRID        458         0         0\n",
      "MUNCHENB        8         0         0\n",
      "OSLO            5         0         0\n",
      "STOCKHOLM       4         0         0\n",
      "VALENTIA        1         0         0\n"
     ]
    }
   ],
   "source": [
    "# Creating confusion matrix\n",
    "\n",
    "def confusion_matrix(y_true, y_pred):\n",
    "    y_true = pd.Series([stations[y] for y in np.argmax(y_true, axis=1)])\n",
    "    y_pred = pd.Series([stations[y] for y in np.argmax(y_pred, axis=1)])\n",
    "\n",
    "    return pd.crosstab(y_true, y_pred, rownames=['True'], colnames=['Pred'])\n",
    "\n",
    "print(confusion_matrix(y_test, model.predict(X_test)))"
   ]
  },
  {
   "cell_type": "markdown",
   "id": "dadfa2e5-532d-4c81-8002-22ed964d12f4",
   "metadata": {},
   "source": [
    "### 7. Model #4"
   ]
  },
  {
   "cell_type": "code",
   "execution_count": 265,
   "id": "a2a6daaa-e6b8-4ece-ac23-c6a01b66461c",
   "metadata": {},
   "outputs": [],
   "source": [
    "epochs = 30\n",
    "batch_size = 8\n",
    "n_hidden = 20\n",
    "\n",
    "timesteps = len(X_train[0])\n",
    "input_dim = len(X_train[0][0])\n",
    "n_classes = len(y_train[0])\n",
    "\n",
    "model = Sequential()\n",
    "model.add(Conv1D(n_hidden, kernel_size=2, activation='relu', input_shape=(timesteps, input_dim)))\n",
    "model.add(Dense(16, activation='relu'))\n",
    "model.add(MaxPooling1D())\n",
    "model.add(Flatten())\n",
    "model.add(Dense(n_classes, activation='relu')) # Options: sigmoid, tanh, softmax, relu"
   ]
  },
  {
   "cell_type": "code",
   "execution_count": 267,
   "id": "9aae80e7-215c-41d0-bf6d-f244a926a3f7",
   "metadata": {},
   "outputs": [],
   "source": [
    "model.compile(loss='categorical_crossentropy',\n",
    "              optimizer='rmsprop',\n",
    "              metrics=['accuracy'])"
   ]
  },
  {
   "cell_type": "code",
   "execution_count": 269,
   "id": "739e242a-3207-4d44-937e-619d9d7c2e15",
   "metadata": {},
   "outputs": [
    {
     "name": "stdout",
     "output_type": "stream",
     "text": [
      "Epoch 1/30\n",
      "\u001b[1m2152/2152\u001b[0m \u001b[32m━━━━━━━━━━━━━━━━━━━━\u001b[0m\u001b[37m\u001b[0m \u001b[1m4s\u001b[0m 2ms/step - accuracy: 0.3006 - loss: nan - val_accuracy: 0.6417 - val_loss: nan\n",
      "Epoch 2/30\n",
      "\u001b[1m2152/2152\u001b[0m \u001b[32m━━━━━━━━━━━━━━━━━━━━\u001b[0m\u001b[37m\u001b[0m \u001b[1m3s\u001b[0m 2ms/step - accuracy: 0.6450 - loss: nan - val_accuracy: 0.6417 - val_loss: nan\n",
      "Epoch 3/30\n",
      "\u001b[1m2152/2152\u001b[0m \u001b[32m━━━━━━━━━━━━━━━━━━━━\u001b[0m\u001b[37m\u001b[0m \u001b[1m3s\u001b[0m 2ms/step - accuracy: 0.6473 - loss: nan - val_accuracy: 0.6417 - val_loss: nan\n",
      "Epoch 4/30\n",
      "\u001b[1m2152/2152\u001b[0m \u001b[32m━━━━━━━━━━━━━━━━━━━━\u001b[0m\u001b[37m\u001b[0m \u001b[1m3s\u001b[0m 2ms/step - accuracy: 0.6461 - loss: nan - val_accuracy: 0.6417 - val_loss: nan\n",
      "Epoch 5/30\n",
      "\u001b[1m2152/2152\u001b[0m \u001b[32m━━━━━━━━━━━━━━━━━━━━\u001b[0m\u001b[37m\u001b[0m \u001b[1m3s\u001b[0m 2ms/step - accuracy: 0.6379 - loss: nan - val_accuracy: 0.6417 - val_loss: nan\n",
      "Epoch 6/30\n",
      "\u001b[1m2152/2152\u001b[0m \u001b[32m━━━━━━━━━━━━━━━━━━━━\u001b[0m\u001b[37m\u001b[0m \u001b[1m4s\u001b[0m 2ms/step - accuracy: 0.6413 - loss: nan - val_accuracy: 0.6417 - val_loss: nan\n",
      "Epoch 7/30\n",
      "\u001b[1m2152/2152\u001b[0m \u001b[32m━━━━━━━━━━━━━━━━━━━━\u001b[0m\u001b[37m\u001b[0m \u001b[1m4s\u001b[0m 2ms/step - accuracy: 0.6436 - loss: nan - val_accuracy: 0.6417 - val_loss: nan\n",
      "Epoch 8/30\n",
      "\u001b[1m2152/2152\u001b[0m \u001b[32m━━━━━━━━━━━━━━━━━━━━\u001b[0m\u001b[37m\u001b[0m \u001b[1m4s\u001b[0m 2ms/step - accuracy: 0.6462 - loss: nan - val_accuracy: 0.6417 - val_loss: nan\n",
      "Epoch 9/30\n",
      "\u001b[1m2152/2152\u001b[0m \u001b[32m━━━━━━━━━━━━━━━━━━━━\u001b[0m\u001b[37m\u001b[0m \u001b[1m3s\u001b[0m 2ms/step - accuracy: 0.6455 - loss: nan - val_accuracy: 0.6417 - val_loss: nan\n",
      "Epoch 10/30\n",
      "\u001b[1m2152/2152\u001b[0m \u001b[32m━━━━━━━━━━━━━━━━━━━━\u001b[0m\u001b[37m\u001b[0m \u001b[1m3s\u001b[0m 2ms/step - accuracy: 0.6507 - loss: nan - val_accuracy: 0.6417 - val_loss: nan\n",
      "Epoch 11/30\n",
      "\u001b[1m2152/2152\u001b[0m \u001b[32m━━━━━━━━━━━━━━━━━━━━\u001b[0m\u001b[37m\u001b[0m \u001b[1m3s\u001b[0m 2ms/step - accuracy: 0.6365 - loss: nan - val_accuracy: 0.6417 - val_loss: nan\n",
      "Epoch 12/30\n",
      "\u001b[1m2152/2152\u001b[0m \u001b[32m━━━━━━━━━━━━━━━━━━━━\u001b[0m\u001b[37m\u001b[0m \u001b[1m4s\u001b[0m 2ms/step - accuracy: 0.6390 - loss: nan - val_accuracy: 0.6417 - val_loss: nan\n",
      "Epoch 13/30\n",
      "\u001b[1m2152/2152\u001b[0m \u001b[32m━━━━━━━━━━━━━━━━━━━━\u001b[0m\u001b[37m\u001b[0m \u001b[1m3s\u001b[0m 2ms/step - accuracy: 0.6413 - loss: nan - val_accuracy: 0.6417 - val_loss: nan\n",
      "Epoch 14/30\n",
      "\u001b[1m2152/2152\u001b[0m \u001b[32m━━━━━━━━━━━━━━━━━━━━\u001b[0m\u001b[37m\u001b[0m \u001b[1m3s\u001b[0m 2ms/step - accuracy: 0.6472 - loss: nan - val_accuracy: 0.6417 - val_loss: nan\n",
      "Epoch 15/30\n",
      "\u001b[1m2152/2152\u001b[0m \u001b[32m━━━━━━━━━━━━━━━━━━━━\u001b[0m\u001b[37m\u001b[0m \u001b[1m3s\u001b[0m 2ms/step - accuracy: 0.6502 - loss: nan - val_accuracy: 0.6417 - val_loss: nan\n",
      "Epoch 16/30\n",
      "\u001b[1m2152/2152\u001b[0m \u001b[32m━━━━━━━━━━━━━━━━━━━━\u001b[0m\u001b[37m\u001b[0m \u001b[1m4s\u001b[0m 2ms/step - accuracy: 0.6443 - loss: nan - val_accuracy: 0.6417 - val_loss: nan\n",
      "Epoch 17/30\n",
      "\u001b[1m2152/2152\u001b[0m \u001b[32m━━━━━━━━━━━━━━━━━━━━\u001b[0m\u001b[37m\u001b[0m \u001b[1m4s\u001b[0m 2ms/step - accuracy: 0.6351 - loss: nan - val_accuracy: 0.6417 - val_loss: nan\n",
      "Epoch 18/30\n",
      "\u001b[1m2152/2152\u001b[0m \u001b[32m━━━━━━━━━━━━━━━━━━━━\u001b[0m\u001b[37m\u001b[0m \u001b[1m3s\u001b[0m 2ms/step - accuracy: 0.6479 - loss: nan - val_accuracy: 0.6417 - val_loss: nan\n",
      "Epoch 19/30\n",
      "\u001b[1m2152/2152\u001b[0m \u001b[32m━━━━━━━━━━━━━━━━━━━━\u001b[0m\u001b[37m\u001b[0m \u001b[1m3s\u001b[0m 2ms/step - accuracy: 0.6463 - loss: nan - val_accuracy: 0.6417 - val_loss: nan\n",
      "Epoch 20/30\n",
      "\u001b[1m2152/2152\u001b[0m \u001b[32m━━━━━━━━━━━━━━━━━━━━\u001b[0m\u001b[37m\u001b[0m \u001b[1m3s\u001b[0m 2ms/step - accuracy: 0.6457 - loss: nan - val_accuracy: 0.6417 - val_loss: nan\n",
      "Epoch 21/30\n",
      "\u001b[1m2152/2152\u001b[0m \u001b[32m━━━━━━━━━━━━━━━━━━━━\u001b[0m\u001b[37m\u001b[0m \u001b[1m3s\u001b[0m 2ms/step - accuracy: 0.6474 - loss: nan - val_accuracy: 0.6417 - val_loss: nan\n",
      "Epoch 22/30\n",
      "\u001b[1m2152/2152\u001b[0m \u001b[32m━━━━━━━━━━━━━━━━━━━━\u001b[0m\u001b[37m\u001b[0m \u001b[1m3s\u001b[0m 2ms/step - accuracy: 0.6365 - loss: nan - val_accuracy: 0.6417 - val_loss: nan\n",
      "Epoch 23/30\n",
      "\u001b[1m2152/2152\u001b[0m \u001b[32m━━━━━━━━━━━━━━━━━━━━\u001b[0m\u001b[37m\u001b[0m \u001b[1m3s\u001b[0m 2ms/step - accuracy: 0.6485 - loss: nan - val_accuracy: 0.6417 - val_loss: nan\n",
      "Epoch 24/30\n",
      "\u001b[1m2152/2152\u001b[0m \u001b[32m━━━━━━━━━━━━━━━━━━━━\u001b[0m\u001b[37m\u001b[0m \u001b[1m4s\u001b[0m 2ms/step - accuracy: 0.6402 - loss: nan - val_accuracy: 0.6417 - val_loss: nan\n",
      "Epoch 25/30\n",
      "\u001b[1m2152/2152\u001b[0m \u001b[32m━━━━━━━━━━━━━━━━━━━━\u001b[0m\u001b[37m\u001b[0m \u001b[1m4s\u001b[0m 2ms/step - accuracy: 0.6468 - loss: nan - val_accuracy: 0.6417 - val_loss: nan\n",
      "Epoch 26/30\n",
      "\u001b[1m2152/2152\u001b[0m \u001b[32m━━━━━━━━━━━━━━━━━━━━\u001b[0m\u001b[37m\u001b[0m \u001b[1m3s\u001b[0m 2ms/step - accuracy: 0.6445 - loss: nan - val_accuracy: 0.6417 - val_loss: nan\n",
      "Epoch 27/30\n",
      "\u001b[1m2152/2152\u001b[0m \u001b[32m━━━━━━━━━━━━━━━━━━━━\u001b[0m\u001b[37m\u001b[0m \u001b[1m3s\u001b[0m 2ms/step - accuracy: 0.6445 - loss: nan - val_accuracy: 0.6417 - val_loss: nan\n",
      "Epoch 28/30\n",
      "\u001b[1m2152/2152\u001b[0m \u001b[32m━━━━━━━━━━━━━━━━━━━━\u001b[0m\u001b[37m\u001b[0m \u001b[1m3s\u001b[0m 2ms/step - accuracy: 0.6431 - loss: nan - val_accuracy: 0.6417 - val_loss: nan\n",
      "Epoch 29/30\n",
      "\u001b[1m2152/2152\u001b[0m \u001b[32m━━━━━━━━━━━━━━━━━━━━\u001b[0m\u001b[37m\u001b[0m \u001b[1m3s\u001b[0m 2ms/step - accuracy: 0.6390 - loss: nan - val_accuracy: 0.6417 - val_loss: nan\n",
      "Epoch 30/30\n",
      "\u001b[1m2152/2152\u001b[0m \u001b[32m━━━━━━━━━━━━━━━━━━━━\u001b[0m\u001b[37m\u001b[0m \u001b[1m3s\u001b[0m 2ms/step - accuracy: 0.6403 - loss: nan - val_accuracy: 0.6417 - val_loss: nan\n"
     ]
    },
    {
     "data": {
      "text/plain": [
       "<keras.src.callbacks.history.History at 0x1f95f08fd10>"
      ]
     },
     "execution_count": 269,
     "metadata": {},
     "output_type": "execute_result"
    }
   ],
   "source": [
    "model.fit(X_train,\n",
    "          y_train,\n",
    "          batch_size=batch_size,\n",
    "          validation_data=(X_test, y_test),\n",
    "          epochs=epochs)"
   ]
  },
  {
   "cell_type": "code",
   "execution_count": 271,
   "id": "d1537070-efe9-4957-97d8-bbf0ebea77bb",
   "metadata": {},
   "outputs": [
    {
     "name": "stdout",
     "output_type": "stream",
     "text": [
      "\u001b[1m180/180\u001b[0m \u001b[32m━━━━━━━━━━━━━━━━━━━━\u001b[0m\u001b[37m\u001b[0m \u001b[1m0s\u001b[0m 973us/step\n",
      "Pred        BASEL\n",
      "True             \n",
      "BASEL        3682\n",
      "BELGRADE     1092\n",
      "BUDAPEST      214\n",
      "DEBILT         82\n",
      "DUSSELDORF     29\n",
      "HEATHROW       82\n",
      "KASSEL         11\n",
      "LJUBLJANA      61\n",
      "MAASTRICHT      9\n",
      "MADRID        458\n",
      "MUNCHENB        8\n",
      "OSLO            5\n",
      "STOCKHOLM       4\n",
      "VALENTIA        1\n"
     ]
    }
   ],
   "source": [
    "# Creating confusion matrix\n",
    "\n",
    "def confusion_matrix(y_true, y_pred):\n",
    "    y_true = pd.Series([stations[y] for y in np.argmax(y_true, axis=1)])\n",
    "    y_pred = pd.Series([stations[y] for y in np.argmax(y_pred, axis=1)])\n",
    "\n",
    "    return pd.crosstab(y_true, y_pred, rownames=['True'], colnames=['Pred'])\n",
    "\n",
    "print(confusion_matrix(y_test, model.predict(X_test)))"
   ]
  },
  {
   "cell_type": "code",
   "execution_count": 11,
   "id": "29e10a21-9dd3-43c9-a57f-74d54c395aa7",
   "metadata": {},
   "outputs": [],
   "source": [
    "# Dropping DATE and MONTH from df\n",
    "\n",
    "df.drop(['DATE', 'MONTH'], axis=1, inplace=True)"
   ]
  },
  {
   "cell_type": "code",
   "execution_count": null,
   "id": "6ea620b2-e75f-430b-8a72-430b8d00c7d4",
   "metadata": {},
   "outputs": [],
   "source": []
  }
 ],
 "metadata": {
  "kernelspec": {
   "display_name": "Python 3 (ipykernel)",
   "language": "python",
   "name": "python3"
  },
  "language_info": {
   "codemirror_mode": {
    "name": "ipython",
    "version": 3
   },
   "file_extension": ".py",
   "mimetype": "text/x-python",
   "name": "python",
   "nbconvert_exporter": "python",
   "pygments_lexer": "ipython3",
   "version": "3.12.4"
  }
 },
 "nbformat": 4,
 "nbformat_minor": 5
}
